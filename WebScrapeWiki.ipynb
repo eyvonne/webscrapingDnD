{
 "cells": [
  {
   "cell_type": "code",
   "execution_count": 206,
   "metadata": {},
   "outputs": [],
   "source": [
    "import requests\n",
    "import pandas as pd\n",
    "from bs4 import BeautifulSoup\n",
    "import numpy as np"
   ]
  },
  {
   "cell_type": "code",
   "execution_count": 21,
   "metadata": {},
   "outputs": [],
   "source": [
    "url='https://www.dandwiki.com/wiki/5e_Aberration_Races'\n"
   ]
  },
  {
   "cell_type": "code",
   "execution_count": 22,
   "metadata": {},
   "outputs": [],
   "source": [
    "page=requests.get(url)\n",
    "page=page.text"
   ]
  },
  {
   "cell_type": "code",
   "execution_count": 71,
   "metadata": {},
   "outputs": [],
   "source": [
    "soup=BeautifulSoup(page, 'html.parser')"
   ]
  },
  {
   "cell_type": "code",
   "execution_count": 99,
   "metadata": {},
   "outputs": [
    {
     "data": {
      "text/plain": [
       "bs4.element.ResultSet"
      ]
     },
     "execution_count": 99,
     "metadata": {},
     "output_type": "execute_result"
    }
   ],
   "source": [
    "tableOdd=soup.find_all('tr')\n",
    "tableEven=soup.find_all('tr', class_='even')\n",
    "type(tableOdd)"
   ]
  },
  {
   "cell_type": "code",
   "execution_count": 100,
   "metadata": {},
   "outputs": [],
   "source": [
    "table=[]\n",
    "for row in tableOdd:\n",
    "    rowDict={}\n",
    "    for i, cell in enumerate(row.find_all('td')):\n",
    "        rowDict[i]=cell.text\n",
    "    table.append(rowDict)\n",
    "odds=pd.DataFrame(table)\n",
    "\n"
   ]
  },
  {
   "cell_type": "code",
   "execution_count": 101,
   "metadata": {},
   "outputs": [],
   "source": [
    "table=[]\n",
    "for row in tableEven:\n",
    "    rowDict={}\n",
    "    for i, cell in enumerate(row.find_all('td')):\n",
    "        rowDict[i]=cell.text\n",
    "    table.append(rowDict)\n",
    "evens=pd.DataFrame(table)"
   ]
  },
  {
   "cell_type": "code",
   "execution_count": 102,
   "metadata": {},
   "outputs": [
    {
     "data": {
      "text/html": [
       "<div>\n",
       "<style scoped>\n",
       "    .dataframe tbody tr th:only-of-type {\n",
       "        vertical-align: middle;\n",
       "    }\n",
       "\n",
       "    .dataframe tbody tr th {\n",
       "        vertical-align: top;\n",
       "    }\n",
       "\n",
       "    .dataframe thead th {\n",
       "        text-align: right;\n",
       "    }\n",
       "</style>\n",
       "<table border=\"1\" class=\"dataframe\">\n",
       "  <thead>\n",
       "    <tr style=\"text-align: right;\">\n",
       "      <th></th>\n",
       "      <th>0</th>\n",
       "      <th>1</th>\n",
       "      <th>2</th>\n",
       "      <th>3</th>\n",
       "      <th>4</th>\n",
       "      <th>5</th>\n",
       "      <th>6</th>\n",
       "      <th>7</th>\n",
       "      <th>8</th>\n",
       "    </tr>\n",
       "  </thead>\n",
       "  <tbody>\n",
       "    <tr>\n",
       "      <th>0</th>\n",
       "      <td>“\\n</td>\n",
       "      <td>Aberrations are utterly alien beings. Many of ...</td>\n",
       "      <td>”\\n</td>\n",
       "      <td>NaN</td>\n",
       "      <td>NaN</td>\n",
       "      <td>NaN</td>\n",
       "      <td>NaN</td>\n",
       "      <td>NaN</td>\n",
       "      <td>NaN</td>\n",
       "    </tr>\n",
       "    <tr>\n",
       "      <th>1</th>\n",
       "      <td>NaN</td>\n",
       "      <td>NaN</td>\n",
       "      <td>NaN</td>\n",
       "      <td>NaN</td>\n",
       "      <td>NaN</td>\n",
       "      <td>NaN</td>\n",
       "      <td>NaN</td>\n",
       "      <td>NaN</td>\n",
       "      <td>NaN</td>\n",
       "    </tr>\n",
       "    <tr>\n",
       "      <th>2</th>\n",
       "      <td>Alloprax</td>\n",
       "      <td>Oddities among mortalkin, the alloprax stand a...</td>\n",
       "      <td>Your Constitution score increases by 2, and yo...</td>\n",
       "      <td>Alloprax hold roughly the same size and build ...</td>\n",
       "      <td>Your base walking speed is 30 feet.\\n</td>\n",
       "      <td>NaN</td>\n",
       "      <td>NaN</td>\n",
       "      <td>NaN</td>\n",
       "      <td>NaN</td>\n",
       "    </tr>\n",
       "    <tr>\n",
       "      <th>3</th>\n",
       "      <td>Anamesa</td>\n",
       "      <td>Humanoids whose consciousness is divided betwe...</td>\n",
       "      <td>Your Charisma score increases by 2, and one ot...</td>\n",
       "      <td>Your size is the same as your physical race wh...</td>\n",
       "      <td>Your base walking speed is 30 feet.\\n</td>\n",
       "      <td>NaN</td>\n",
       "      <td>NaN</td>\n",
       "      <td>NaN</td>\n",
       "      <td>NaN</td>\n",
       "    </tr>\n",
       "    <tr>\n",
       "      <th>4</th>\n",
       "      <td>Banette</td>\n",
       "      <td>Cursed dolls who seek revenge against the ones...</td>\n",
       "      <td>Your Dexterity, Intelligence and Charisma scor...</td>\n",
       "      <td>Banettes stand at a little above 3 and a half ...</td>\n",
       "      <td>Your base walking speed is 30 feet.\\n</td>\n",
       "      <td>NaN</td>\n",
       "      <td>NaN</td>\n",
       "      <td>NaN</td>\n",
       "      <td>NaN</td>\n",
       "    </tr>\n",
       "  </tbody>\n",
       "</table>\n",
       "</div>"
      ],
      "text/plain": [
       "           0                                                  1  \\\n",
       "0        “\\n  Aberrations are utterly alien beings. Many of ...   \n",
       "1        NaN                                                NaN   \n",
       "2  Alloprax   Oddities among mortalkin, the alloprax stand a...   \n",
       "3   Anamesa   Humanoids whose consciousness is divided betwe...   \n",
       "4   Banette   Cursed dolls who seek revenge against the ones...   \n",
       "\n",
       "                                                   2  \\\n",
       "0                                                ”\\n   \n",
       "1                                                NaN   \n",
       "2  Your Constitution score increases by 2, and yo...   \n",
       "3  Your Charisma score increases by 2, and one ot...   \n",
       "4  Your Dexterity, Intelligence and Charisma scor...   \n",
       "\n",
       "                                                   3  \\\n",
       "0                                                NaN   \n",
       "1                                                NaN   \n",
       "2  Alloprax hold roughly the same size and build ...   \n",
       "3  Your size is the same as your physical race wh...   \n",
       "4  Banettes stand at a little above 3 and a half ...   \n",
       "\n",
       "                                       4    5    6    7    8  \n",
       "0                                    NaN  NaN  NaN  NaN  NaN  \n",
       "1                                    NaN  NaN  NaN  NaN  NaN  \n",
       "2  Your base walking speed is 30 feet.\\n  NaN  NaN  NaN  NaN  \n",
       "3  Your base walking speed is 30 feet.\\n  NaN  NaN  NaN  NaN  \n",
       "4  Your base walking speed is 30 feet.\\n  NaN  NaN  NaN  NaN  "
      ]
     },
     "execution_count": 102,
     "metadata": {},
     "output_type": "execute_result"
    }
   ],
   "source": [
    "odds.head()"
   ]
  },
  {
   "cell_type": "code",
   "execution_count": 103,
   "metadata": {},
   "outputs": [],
   "source": [
    "odds=odds.drop([5,6,7,8], axis=1)\n",
    "evens=evens.drop([5,6,7,8], axis=1)\n",
    "odds.columns=['Name','Sumary','Abilities','Size','Speed']\n",
    "evens.columns=['Name','Sumary','Abilities','Size','Speed']"
   ]
  },
  {
   "cell_type": "code",
   "execution_count": 104,
   "metadata": {},
   "outputs": [
    {
     "data": {
      "text/plain": [
       "(49, 5)"
      ]
     },
     "execution_count": 104,
     "metadata": {},
     "output_type": "execute_result"
    }
   ],
   "source": [
    "odds.shape"
   ]
  },
  {
   "cell_type": "code",
   "execution_count": 98,
   "metadata": {},
   "outputs": [
    {
     "data": {
      "text/plain": [
       "(46, 5)"
      ]
     },
     "execution_count": 98,
     "metadata": {},
     "output_type": "execute_result"
    }
   ],
   "source": [
    "pd.concat([odds, evens], ignore_index=True).sort_values('Name').shape"
   ]
  },
  {
   "cell_type": "code",
   "execution_count": null,
   "metadata": {},
   "outputs": [],
   "source": [
    "def getTable(URL):\n",
    "    page=requests.get(URL).text\n",
    "    soup=BeautifulSoup(page, 'html.parser')\n",
    "    row=soup.find('tr', class_='odd')\n",
    "    for i in range(47):\n",
    "        for cell in row.find_all('td'):\n",
    "            print(cell.text)\n",
    "        row=row.findNext('tr')"
   ]
  },
  {
   "cell_type": "code",
   "execution_count": 179,
   "metadata": {},
   "outputs": [],
   "source": [
    "def getTable(URL):\n",
    "    page=requests.get(URL).text\n",
    "    soup=BeautifulSoup(page, 'html.parser')\n",
    "    table=soup.find('tbody').findNext('tbody')\n",
    "    tableList=[]\n",
    "    for tr in table.find_all('tr'):\n",
    "        row={}\n",
    "        for i, cell in enumerate(tr.find_all('td')):\n",
    "            row[i]=cell.text\n",
    "        tableList.append(row)\n",
    "    df=pd.DataFrame(tableList)\n",
    "    df=df[[0,1,2,3,4]]\n",
    "    df.columns=['Name','Summary','Abilities', 'Size', 'Speed']\n",
    "    df.dropna(inplace=True)\n",
    "    return df"
   ]
  },
  {
   "cell_type": "code",
   "execution_count": 183,
   "metadata": {},
   "outputs": [],
   "source": [
    "df=pd.concat([getTable('https://www.dandwiki.com/wiki/5e_Aberration_Races'), getTable('https://www.dandwiki.com/wiki/5e_Beast_Races')])"
   ]
  },
  {
   "cell_type": "code",
   "execution_count": 184,
   "metadata": {},
   "outputs": [
    {
     "data": {
      "text/html": [
       "<div>\n",
       "<style scoped>\n",
       "    .dataframe tbody tr th:only-of-type {\n",
       "        vertical-align: middle;\n",
       "    }\n",
       "\n",
       "    .dataframe tbody tr th {\n",
       "        vertical-align: top;\n",
       "    }\n",
       "\n",
       "    .dataframe thead th {\n",
       "        text-align: right;\n",
       "    }\n",
       "</style>\n",
       "<table border=\"1\" class=\"dataframe\">\n",
       "  <thead>\n",
       "    <tr style=\"text-align: right;\">\n",
       "      <th></th>\n",
       "      <th>Name</th>\n",
       "      <th>Summary</th>\n",
       "      <th>Abilities</th>\n",
       "      <th>Size</th>\n",
       "      <th>Speed</th>\n",
       "    </tr>\n",
       "  </thead>\n",
       "  <tbody>\n",
       "    <tr>\n",
       "      <th>1</th>\n",
       "      <td>Alloprax</td>\n",
       "      <td>Oddities among mortalkin, the alloprax stand a...</td>\n",
       "      <td>Your Constitution score increases by 2, and yo...</td>\n",
       "      <td>Alloprax hold roughly the same size and build ...</td>\n",
       "      <td>Your base walking speed is 30 feet.\\n</td>\n",
       "    </tr>\n",
       "    <tr>\n",
       "      <th>2</th>\n",
       "      <td>Anamesa</td>\n",
       "      <td>Humanoids whose consciousness is divided betwe...</td>\n",
       "      <td>Your Charisma score increases by 2, and one ot...</td>\n",
       "      <td>Your size is the same as your physical race wh...</td>\n",
       "      <td>Your base walking speed is 30 feet.\\n</td>\n",
       "    </tr>\n",
       "    <tr>\n",
       "      <th>3</th>\n",
       "      <td>Banette</td>\n",
       "      <td>Cursed dolls who seek revenge against the ones...</td>\n",
       "      <td>Your Dexterity, Intelligence and Charisma scor...</td>\n",
       "      <td>Banettes stand at a little above 3 and a half ...</td>\n",
       "      <td>Your base walking speed is 30 feet.\\n</td>\n",
       "    </tr>\n",
       "    <tr>\n",
       "      <th>4</th>\n",
       "      <td>Beholderborn</td>\n",
       "      <td>A race of humanoids descended from the cursed ...</td>\n",
       "      <td>Your Intelligence score increases by 2 and you...</td>\n",
       "      <td>Beholderborn vary in weight and height in the ...</td>\n",
       "      <td>Your base walking speed is 30 feet.\\n</td>\n",
       "    </tr>\n",
       "    <tr>\n",
       "      <th>5</th>\n",
       "      <td>Beholdertouched</td>\n",
       "      <td>Humans spliced with the genetics of a beholder...</td>\n",
       "      <td>Your Intelligence score increases by 3. As usu...</td>\n",
       "      <td>Beholdertouched vary in weight and height. You...</td>\n",
       "      <td>Your base walking speed is 30 feet.\\n</td>\n",
       "    </tr>\n",
       "  </tbody>\n",
       "</table>\n",
       "</div>"
      ],
      "text/plain": [
       "               Name                                            Summary  \\\n",
       "1         Alloprax   Oddities among mortalkin, the alloprax stand a...   \n",
       "2          Anamesa   Humanoids whose consciousness is divided betwe...   \n",
       "3          Banette   Cursed dolls who seek revenge against the ones...   \n",
       "4     Beholderborn   A race of humanoids descended from the cursed ...   \n",
       "5  Beholdertouched   Humans spliced with the genetics of a beholder...   \n",
       "\n",
       "                                           Abilities  \\\n",
       "1  Your Constitution score increases by 2, and yo...   \n",
       "2  Your Charisma score increases by 2, and one ot...   \n",
       "3  Your Dexterity, Intelligence and Charisma scor...   \n",
       "4  Your Intelligence score increases by 2 and you...   \n",
       "5  Your Intelligence score increases by 3. As usu...   \n",
       "\n",
       "                                                Size  \\\n",
       "1  Alloprax hold roughly the same size and build ...   \n",
       "2  Your size is the same as your physical race wh...   \n",
       "3  Banettes stand at a little above 3 and a half ...   \n",
       "4  Beholderborn vary in weight and height in the ...   \n",
       "5  Beholdertouched vary in weight and height. You...   \n",
       "\n",
       "                                   Speed  \n",
       "1  Your base walking speed is 30 feet.\\n  \n",
       "2  Your base walking speed is 30 feet.\\n  \n",
       "3  Your base walking speed is 30 feet.\\n  \n",
       "4  Your base walking speed is 30 feet.\\n  \n",
       "5  Your base walking speed is 30 feet.\\n  "
      ]
     },
     "execution_count": 184,
     "metadata": {},
     "output_type": "execute_result"
    }
   ],
   "source": [
    "df.head()"
   ]
  },
  {
   "cell_type": "code",
   "execution_count": 185,
   "metadata": {},
   "outputs": [],
   "source": [
    "def cleanSpeed(data):\n",
    "    dat=data.split()\n",
    "    for word in dat:\n",
    "        try:\n",
    "            int(word)\n",
    "            return int(word)\n",
    "        except:\n",
    "            pass"
   ]
  },
  {
   "cell_type": "code",
   "execution_count": 187,
   "metadata": {},
   "outputs": [],
   "source": [
    "df['intSpeed']=df['Speed'].apply(cleanSpeed)"
   ]
  },
  {
   "cell_type": "code",
   "execution_count": 188,
   "metadata": {},
   "outputs": [
    {
     "data": {
      "text/plain": [
       "1                   Your base walking speed is 30 feet.\n",
       "2                   Your base walking speed is 30 feet.\n",
       "3                   Your base walking speed is 30 feet.\n",
       "4                   Your base walking speed is 30 feet.\n",
       "5                   Your base walking speed is 30 feet.\n",
       "6     You have a base walking speed of 25 feet and a...\n",
       "7                    You base walking speed is 30 feet.\n",
       "8                   Your base walking speed is 35 feet.\n",
       "9                   Your base walking speed is 30 feet.\n",
       "10                  Your base walking speed is 35 feet.\n",
       "11                  Your base walking speed is 30 feet.\n",
       "12                  Your base walking speed is 30 feet.\n",
       "13                  Your base walking speed is 30 feet.\n",
       "14    Your base walking speed is 5 feet. You have a ...\n",
       "15    You have a normal walking speed of 10 feet. Yo...\n",
       "16                  Your base walking speed is 30 feet.\n",
       "17                  Your base walking speed is 25 feet.\n",
       "18                  Your base walking speed is 30 feet.\n",
       "19                  Your base walking speed is 30 feet.\n",
       "20    Illithids have the ability to levitate at will...\n",
       "21                  Your base walking speed is 30 feet.\n",
       "22                  Your base walking speed is 30 feet.\n",
       "23                  Your base walking speed is 25 feet.\n",
       "24    You have a base walking speed of 30 feet. You ...\n",
       "25                  Your base walking speed is 30 feet.\n",
       "26                  Your base walking speed is 30 feet.\n",
       "27                  Your base walking speed is 25 feet.\n",
       "28                  Your base walking speed is 35 feet.\n",
       "29                  Your base walking speed is 30 feet.\n",
       "30                  Your base walking speed is 30 feet.\n",
       "                            ...                        \n",
       "41                  Your base walking speed is 30 feet.\n",
       "42    Medium-sized mogogols have a base speed of 30 ...\n",
       "43                  Your base walking speed is 20 feet.\n",
       "44                  Your base walking speed is 30 feet.\n",
       "45                  Your base walking speed is 30 feet.\n",
       "46    Your base walking speed is 25 feet. You have a...\n",
       "47                  Your base walking speed is 30 feet.\n",
       "48                  Your base walking speed is 30 feet.\n",
       "49                  Your base walking speed is 35 feet.\n",
       "50                  Your base walking speed is 25 feet.\n",
       "51                  Your base walking speed is 30 feet.\n",
       "52    Your base walking speed is 20 feet. You have a...\n",
       "53    Your base walking speed is 30 feet, and you ha...\n",
       "54                  Your base walking speed is 30 feet.\n",
       "55                  Your base walking speed is 30 feet.\n",
       "56                  Your base walking speed is 20 feet.\n",
       "57                  Your base walking speed is 30 feet.\n",
       "58                  Your base walking speed is 25 feet.\n",
       "59    Your base walking speed is 30 feet. You also h...\n",
       "60    Your base walking speed is 30 feet. You have a...\n",
       "61                  Your base walking speed is 30 feet.\n",
       "62                  Your base walking speed is 25 feet.\n",
       "63                  Your base walking speed is 25 feet.\n",
       "64         Your movement speeds depend on your subrace.\n",
       "65                  Your base walking speed is 35 feet.\n",
       "66                  Your base walking speed is 30 feet.\n",
       "67                  Your base walking speed is 35 feet.\n",
       "68                  Your base walking speed is 40 feet.\n",
       "69                  Your base walking speed is 30 feet.\n",
       "70                  Your base walking speed is 30 feet.\n",
       "Name: Speed, Length: 115, dtype: object"
      ]
     },
     "execution_count": 188,
     "metadata": {},
     "output_type": "execute_result"
    }
   ],
   "source": [
    "df['Speed'].apply(lambda x: x.strip('\\n'))"
   ]
  },
  {
   "cell_type": "code",
   "execution_count": 189,
   "metadata": {},
   "outputs": [
    {
     "data": {
      "text/html": [
       "<div>\n",
       "<style scoped>\n",
       "    .dataframe tbody tr th:only-of-type {\n",
       "        vertical-align: middle;\n",
       "    }\n",
       "\n",
       "    .dataframe tbody tr th {\n",
       "        vertical-align: top;\n",
       "    }\n",
       "\n",
       "    .dataframe thead th {\n",
       "        text-align: right;\n",
       "    }\n",
       "</style>\n",
       "<table border=\"1\" class=\"dataframe\">\n",
       "  <thead>\n",
       "    <tr style=\"text-align: right;\">\n",
       "      <th></th>\n",
       "      <th>Name</th>\n",
       "      <th>Summary</th>\n",
       "      <th>Abilities</th>\n",
       "      <th>Size</th>\n",
       "      <th>Speed</th>\n",
       "      <th>intSpeed</th>\n",
       "    </tr>\n",
       "  </thead>\n",
       "  <tbody>\n",
       "    <tr>\n",
       "      <th>1</th>\n",
       "      <td>Alloprax</td>\n",
       "      <td>Oddities among mortalkin, the alloprax stand a...</td>\n",
       "      <td>Your Constitution score increases by 2, and yo...</td>\n",
       "      <td>Alloprax hold roughly the same size and build ...</td>\n",
       "      <td>Your base walking speed is 30 feet.\\n</td>\n",
       "      <td>30.0</td>\n",
       "    </tr>\n",
       "    <tr>\n",
       "      <th>2</th>\n",
       "      <td>Anamesa</td>\n",
       "      <td>Humanoids whose consciousness is divided betwe...</td>\n",
       "      <td>Your Charisma score increases by 2, and one ot...</td>\n",
       "      <td>Your size is the same as your physical race wh...</td>\n",
       "      <td>Your base walking speed is 30 feet.\\n</td>\n",
       "      <td>30.0</td>\n",
       "    </tr>\n",
       "    <tr>\n",
       "      <th>3</th>\n",
       "      <td>Banette</td>\n",
       "      <td>Cursed dolls who seek revenge against the ones...</td>\n",
       "      <td>Your Dexterity, Intelligence and Charisma scor...</td>\n",
       "      <td>Banettes stand at a little above 3 and a half ...</td>\n",
       "      <td>Your base walking speed is 30 feet.\\n</td>\n",
       "      <td>30.0</td>\n",
       "    </tr>\n",
       "    <tr>\n",
       "      <th>4</th>\n",
       "      <td>Beholderborn</td>\n",
       "      <td>A race of humanoids descended from the cursed ...</td>\n",
       "      <td>Your Intelligence score increases by 2 and you...</td>\n",
       "      <td>Beholderborn vary in weight and height in the ...</td>\n",
       "      <td>Your base walking speed is 30 feet.\\n</td>\n",
       "      <td>30.0</td>\n",
       "    </tr>\n",
       "    <tr>\n",
       "      <th>5</th>\n",
       "      <td>Beholdertouched</td>\n",
       "      <td>Humans spliced with the genetics of a beholder...</td>\n",
       "      <td>Your Intelligence score increases by 3. As usu...</td>\n",
       "      <td>Beholdertouched vary in weight and height. You...</td>\n",
       "      <td>Your base walking speed is 30 feet.\\n</td>\n",
       "      <td>30.0</td>\n",
       "    </tr>\n",
       "  </tbody>\n",
       "</table>\n",
       "</div>"
      ],
      "text/plain": [
       "               Name                                            Summary  \\\n",
       "1         Alloprax   Oddities among mortalkin, the alloprax stand a...   \n",
       "2          Anamesa   Humanoids whose consciousness is divided betwe...   \n",
       "3          Banette   Cursed dolls who seek revenge against the ones...   \n",
       "4     Beholderborn   A race of humanoids descended from the cursed ...   \n",
       "5  Beholdertouched   Humans spliced with the genetics of a beholder...   \n",
       "\n",
       "                                           Abilities  \\\n",
       "1  Your Constitution score increases by 2, and yo...   \n",
       "2  Your Charisma score increases by 2, and one ot...   \n",
       "3  Your Dexterity, Intelligence and Charisma scor...   \n",
       "4  Your Intelligence score increases by 2 and you...   \n",
       "5  Your Intelligence score increases by 3. As usu...   \n",
       "\n",
       "                                                Size  \\\n",
       "1  Alloprax hold roughly the same size and build ...   \n",
       "2  Your size is the same as your physical race wh...   \n",
       "3  Banettes stand at a little above 3 and a half ...   \n",
       "4  Beholderborn vary in weight and height in the ...   \n",
       "5  Beholdertouched vary in weight and height. You...   \n",
       "\n",
       "                                   Speed  intSpeed  \n",
       "1  Your base walking speed is 30 feet.\\n      30.0  \n",
       "2  Your base walking speed is 30 feet.\\n      30.0  \n",
       "3  Your base walking speed is 30 feet.\\n      30.0  \n",
       "4  Your base walking speed is 30 feet.\\n      30.0  \n",
       "5  Your base walking speed is 30 feet.\\n      30.0  "
      ]
     },
     "execution_count": 189,
     "metadata": {},
     "output_type": "execute_result"
    }
   ],
   "source": [
    "df.head()"
   ]
  },
  {
   "cell_type": "code",
   "execution_count": 198,
   "metadata": {},
   "outputs": [
    {
     "name": "stdout",
     "output_type": "stream",
     "text": [
      "Alloprax hold roughly the same size and build as elves. Your size is Medium.\n",
      "\n"
     ]
    }
   ],
   "source": [
    "print(df['Size'].iloc[0])"
   ]
  },
  {
   "cell_type": "code",
   "execution_count": 237,
   "metadata": {},
   "outputs": [
    {
     "name": "stdout",
     "output_type": "stream",
     "text": [
      "Your size is the same as your physical race which must be either Small or Medium.\n",
      "\n",
      "Your vessel's size is Tiny; your spirit body's size is probably Small or Medium, depending on what race your last user was.\n",
      "\n"
     ]
    },
    {
     "name": "stdin",
     "output_type": "stream",
     "text": [
      "Choose a size small\n"
     ]
    },
    {
     "name": "stdout",
     "output_type": "stream",
     "text": [
      "You are the same size as your mother's race.\n",
      "\n"
     ]
    },
    {
     "name": "stdin",
     "output_type": "stream",
     "text": [
      "Choose a size medium \n"
     ]
    },
    {
     "name": "stdout",
     "output_type": "stream",
     "text": [
      "Your size heavily depends on your subrace.\n",
      "\n"
     ]
    },
    {
     "name": "stdin",
     "output_type": "stream",
     "text": [
      "Choose a size medium \n"
     ]
    },
    {
     "name": "stdout",
     "output_type": "stream",
     "text": [
      "Kyoukotsu's size depends on the subrace.\n",
      "\n"
     ]
    },
    {
     "name": "stdin",
     "output_type": "stream",
     "text": [
      "Choose a size medium\n"
     ]
    },
    {
     "name": "stdout",
     "output_type": "stream",
     "text": [
      "You size is Medium or Small. Mogogols can either be Medium-sized creatures or Small-sized creatures (with normal bonuses and penalties typical of this size). Size is chosen at character creation and does not change.\n",
      "\n"
     ]
    },
    {
     "name": "stdin",
     "output_type": "stream",
     "text": [
      "Choose a size small\n"
     ]
    },
    {
     "name": "stdout",
     "output_type": "stream",
     "text": [
      "Medium. Canis range in size similar to that of humans, though wolves tend to be on the taller side while coyotes are usually on the short side.\n",
      "\n"
     ]
    },
    {
     "name": "stdin",
     "output_type": "stream",
     "text": [
      "Choose a size medium \n"
     ]
    },
    {
     "data": {
      "text/plain": [
       "medium     79\n",
       "small      25\n",
       "tiny        6\n",
       "medium      3\n",
       "the         1\n",
       "large       1\n",
       "Name: Size, dtype: int64"
      ]
     },
     "execution_count": 237,
     "metadata": {},
     "output_type": "execute_result"
    }
   ],
   "source": [
    "def getSize(data):\n",
    "    if data.lower().find('your size is')>-1:\n",
    "        dat = data[data.lower().find('your size is'):].split()[3].lower().strip('.').strip(',')\n",
    "    else:\n",
    "        print(data)\n",
    "        dat=input('Choose a size').lower()\n",
    "    if dat == 'the':\n",
    "        print(data)\n",
    "    return dat\n",
    "df['Size'].apply(getSize).value_counts()"
   ]
  },
  {
   "cell_type": "code",
   "execution_count": 238,
   "metadata": {},
   "outputs": [
    {
     "data": {
      "text/plain": [
       "30.0    68\n",
       "25.0    24\n",
       "35.0    11\n",
       "20.0     3\n",
       "40.0     3\n",
       "10.0     3\n",
       "5.0      1\n",
       "Name: intSpeed, dtype: int64"
      ]
     },
     "execution_count": 238,
     "metadata": {},
     "output_type": "execute_result"
    }
   ],
   "source": [
    "df['intSpeed'].value_counts()"
   ]
  },
  {
   "cell_type": "code",
   "execution_count": null,
   "metadata": {},
   "outputs": [],
   "source": []
  }
 ],
 "metadata": {
  "kernelspec": {
   "display_name": "Python 3",
   "language": "python",
   "name": "python3"
  },
  "language_info": {
   "codemirror_mode": {
    "name": "ipython",
    "version": 3
   },
   "file_extension": ".py",
   "mimetype": "text/x-python",
   "name": "python",
   "nbconvert_exporter": "python",
   "pygments_lexer": "ipython3",
   "version": "3.7.3"
  }
 },
 "nbformat": 4,
 "nbformat_minor": 4
}

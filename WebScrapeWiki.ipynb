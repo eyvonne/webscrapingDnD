{
 "cells": [
  {
   "cell_type": "code",
   "execution_count": 20,
   "metadata": {},
   "outputs": [],
   "source": [
    "import requests\n",
    "import pandas as pd\n",
    "from bs4 import BeautifulSoup"
   ]
  },
  {
   "cell_type": "code",
   "execution_count": 21,
   "metadata": {},
   "outputs": [],
   "source": [
    "url='https://www.dandwiki.com/wiki/5e_Aberration_Races'\n"
   ]
  },
  {
   "cell_type": "code",
   "execution_count": 22,
   "metadata": {},
   "outputs": [],
   "source": [
    "page=requests.get(url)\n",
    "page=page.text"
   ]
  },
  {
   "cell_type": "code",
   "execution_count": 71,
   "metadata": {},
   "outputs": [],
   "source": [
    "soup=BeautifulSoup(page, 'html.parser')"
   ]
  },
  {
   "cell_type": "code",
   "execution_count": 99,
   "metadata": {},
   "outputs": [
    {
     "data": {
      "text/plain": [
       "bs4.element.ResultSet"
      ]
     },
     "execution_count": 99,
     "metadata": {},
     "output_type": "execute_result"
    }
   ],
   "source": [
    "tableOdd=soup.find_all('tr')\n",
    "tableEven=soup.find_all('tr', class_='even')\n",
    "type(tableOdd)"
   ]
  },
  {
   "cell_type": "code",
   "execution_count": 100,
   "metadata": {},
   "outputs": [],
   "source": [
    "table=[]\n",
    "for row in tableOdd:\n",
    "    rowDict={}\n",
    "    for i, cell in enumerate(row.find_all('td')):\n",
    "        rowDict[i]=cell.text\n",
    "    table.append(rowDict)\n",
    "odds=pd.DataFrame(table)\n",
    "\n"
   ]
  },
  {
   "cell_type": "code",
   "execution_count": 101,
   "metadata": {},
   "outputs": [],
   "source": [
    "table=[]\n",
    "for row in tableEven:\n",
    "    rowDict={}\n",
    "    for i, cell in enumerate(row.find_all('td')):\n",
    "        rowDict[i]=cell.text\n",
    "    table.append(rowDict)\n",
    "evens=pd.DataFrame(table)"
   ]
  },
  {
   "cell_type": "code",
   "execution_count": 102,
   "metadata": {},
   "outputs": [
    {
     "data": {
      "text/html": [
       "<div>\n",
       "<style scoped>\n",
       "    .dataframe tbody tr th:only-of-type {\n",
       "        vertical-align: middle;\n",
       "    }\n",
       "\n",
       "    .dataframe tbody tr th {\n",
       "        vertical-align: top;\n",
       "    }\n",
       "\n",
       "    .dataframe thead th {\n",
       "        text-align: right;\n",
       "    }\n",
       "</style>\n",
       "<table border=\"1\" class=\"dataframe\">\n",
       "  <thead>\n",
       "    <tr style=\"text-align: right;\">\n",
       "      <th></th>\n",
       "      <th>0</th>\n",
       "      <th>1</th>\n",
       "      <th>2</th>\n",
       "      <th>3</th>\n",
       "      <th>4</th>\n",
       "      <th>5</th>\n",
       "      <th>6</th>\n",
       "      <th>7</th>\n",
       "      <th>8</th>\n",
       "    </tr>\n",
       "  </thead>\n",
       "  <tbody>\n",
       "    <tr>\n",
       "      <th>0</th>\n",
       "      <td>“\\n</td>\n",
       "      <td>Aberrations are utterly alien beings. Many of ...</td>\n",
       "      <td>”\\n</td>\n",
       "      <td>NaN</td>\n",
       "      <td>NaN</td>\n",
       "      <td>NaN</td>\n",
       "      <td>NaN</td>\n",
       "      <td>NaN</td>\n",
       "      <td>NaN</td>\n",
       "    </tr>\n",
       "    <tr>\n",
       "      <th>1</th>\n",
       "      <td>NaN</td>\n",
       "      <td>NaN</td>\n",
       "      <td>NaN</td>\n",
       "      <td>NaN</td>\n",
       "      <td>NaN</td>\n",
       "      <td>NaN</td>\n",
       "      <td>NaN</td>\n",
       "      <td>NaN</td>\n",
       "      <td>NaN</td>\n",
       "    </tr>\n",
       "    <tr>\n",
       "      <th>2</th>\n",
       "      <td>Alloprax</td>\n",
       "      <td>Oddities among mortalkin, the alloprax stand a...</td>\n",
       "      <td>Your Constitution score increases by 2, and yo...</td>\n",
       "      <td>Alloprax hold roughly the same size and build ...</td>\n",
       "      <td>Your base walking speed is 30 feet.\\n</td>\n",
       "      <td>NaN</td>\n",
       "      <td>NaN</td>\n",
       "      <td>NaN</td>\n",
       "      <td>NaN</td>\n",
       "    </tr>\n",
       "    <tr>\n",
       "      <th>3</th>\n",
       "      <td>Anamesa</td>\n",
       "      <td>Humanoids whose consciousness is divided betwe...</td>\n",
       "      <td>Your Charisma score increases by 2, and one ot...</td>\n",
       "      <td>Your size is the same as your physical race wh...</td>\n",
       "      <td>Your base walking speed is 30 feet.\\n</td>\n",
       "      <td>NaN</td>\n",
       "      <td>NaN</td>\n",
       "      <td>NaN</td>\n",
       "      <td>NaN</td>\n",
       "    </tr>\n",
       "    <tr>\n",
       "      <th>4</th>\n",
       "      <td>Banette</td>\n",
       "      <td>Cursed dolls who seek revenge against the ones...</td>\n",
       "      <td>Your Dexterity, Intelligence and Charisma scor...</td>\n",
       "      <td>Banettes stand at a little above 3 and a half ...</td>\n",
       "      <td>Your base walking speed is 30 feet.\\n</td>\n",
       "      <td>NaN</td>\n",
       "      <td>NaN</td>\n",
       "      <td>NaN</td>\n",
       "      <td>NaN</td>\n",
       "    </tr>\n",
       "  </tbody>\n",
       "</table>\n",
       "</div>"
      ],
      "text/plain": [
       "           0                                                  1  \\\n",
       "0        “\\n  Aberrations are utterly alien beings. Many of ...   \n",
       "1        NaN                                                NaN   \n",
       "2  Alloprax   Oddities among mortalkin, the alloprax stand a...   \n",
       "3   Anamesa   Humanoids whose consciousness is divided betwe...   \n",
       "4   Banette   Cursed dolls who seek revenge against the ones...   \n",
       "\n",
       "                                                   2  \\\n",
       "0                                                ”\\n   \n",
       "1                                                NaN   \n",
       "2  Your Constitution score increases by 2, and yo...   \n",
       "3  Your Charisma score increases by 2, and one ot...   \n",
       "4  Your Dexterity, Intelligence and Charisma scor...   \n",
       "\n",
       "                                                   3  \\\n",
       "0                                                NaN   \n",
       "1                                                NaN   \n",
       "2  Alloprax hold roughly the same size and build ...   \n",
       "3  Your size is the same as your physical race wh...   \n",
       "4  Banettes stand at a little above 3 and a half ...   \n",
       "\n",
       "                                       4    5    6    7    8  \n",
       "0                                    NaN  NaN  NaN  NaN  NaN  \n",
       "1                                    NaN  NaN  NaN  NaN  NaN  \n",
       "2  Your base walking speed is 30 feet.\\n  NaN  NaN  NaN  NaN  \n",
       "3  Your base walking speed is 30 feet.\\n  NaN  NaN  NaN  NaN  \n",
       "4  Your base walking speed is 30 feet.\\n  NaN  NaN  NaN  NaN  "
      ]
     },
     "execution_count": 102,
     "metadata": {},
     "output_type": "execute_result"
    }
   ],
   "source": [
    "odds.head()"
   ]
  },
  {
   "cell_type": "code",
   "execution_count": 103,
   "metadata": {},
   "outputs": [],
   "source": [
    "odds=odds.drop([5,6,7,8], axis=1)\n",
    "evens=evens.drop([5,6,7,8], axis=1)\n",
    "odds.columns=['Name','Sumary','Abilities','Size','Speed']\n",
    "evens.columns=['Name','Sumary','Abilities','Size','Speed']"
   ]
  },
  {
   "cell_type": "code",
   "execution_count": 104,
   "metadata": {},
   "outputs": [
    {
     "data": {
      "text/plain": [
       "(49, 5)"
      ]
     },
     "execution_count": 104,
     "metadata": {},
     "output_type": "execute_result"
    }
   ],
   "source": [
    "odds.shape"
   ]
  },
  {
   "cell_type": "code",
   "execution_count": 98,
   "metadata": {},
   "outputs": [
    {
     "data": {
      "text/plain": [
       "(46, 5)"
      ]
     },
     "execution_count": 98,
     "metadata": {},
     "output_type": "execute_result"
    }
   ],
   "source": [
    "pd.concat([odds, evens], ignore_index=True).sort_values('Name').shape"
   ]
  },
  {
   "cell_type": "code",
   "execution_count": 107,
   "metadata": {},
   "outputs": [],
   "source": [
    "def getTable(URL):\n",
    "    page=requests.get(URL).text\n",
    "    soup=BeautifulSoup(page, 'html.parser')\n",
    "    for kind in ['odd', 'even']:\n",
    "        fullTable=soup.find_all('tr', class_=kind)\n",
    "        half=[]\n",
    "        for row in fullTable:\n",
    "            "
   ]
  },
  {
   "cell_type": "code",
   "execution_count": null,
   "metadata": {},
   "outputs": [],
   "source": []
  }
 ],
 "metadata": {
  "kernelspec": {
   "display_name": "Python 3",
   "language": "python",
   "name": "python3"
  },
  "language_info": {
   "codemirror_mode": {
    "name": "ipython",
    "version": 3
   },
   "file_extension": ".py",
   "mimetype": "text/x-python",
   "name": "python",
   "nbconvert_exporter": "python",
   "pygments_lexer": "ipython3",
   "version": "3.7.3"
  }
 },
 "nbformat": 4,
 "nbformat_minor": 4
}
